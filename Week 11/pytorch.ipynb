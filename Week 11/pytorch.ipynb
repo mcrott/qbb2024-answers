{
 "cells": [
  {
   "cell_type": "markdown",
   "id": "0befdfc6-b73a-4bc7-bbed-9897a798382d",
   "metadata": {},
   "source": [
    "# Hello, PyTorch! -- MNIST Handwritten Digits\n",
    "\n",
    "- https://en.wikipedia.org/wiki/MNIST_database"
   ]
  },
  {
   "cell_type": "markdown",
   "id": "40e7b4e1-b6f5-4e80-b84f-adf5c540a7fe",
   "metadata": {},
   "source": [
    "# Load Datasets"
   ]
  },
  {
   "cell_type": "code",
   "execution_count": 3,
   "id": "37f401f9-93ba-4b81-bde0-c36ab930ce9f",
   "metadata": {},
   "outputs": [],
   "source": [
    "import torch\n",
    "from torchvision import datasets, transforms"
   ]
  },
  {
   "cell_type": "code",
   "execution_count": 5,
   "id": "357e30e1-addf-4926-8946-60ca064dd378",
   "metadata": {},
   "outputs": [
    {
     "name": "stdout",
     "output_type": "stream",
     "text": [
      "Downloading http://yann.lecun.com/exdb/mnist/train-images-idx3-ubyte.gz\n",
      "Failed to download (trying next):\n",
      "HTTP Error 403: Forbidden\n",
      "\n",
      "Downloading https://ossci-datasets.s3.amazonaws.com/mnist/train-images-idx3-ubyte.gz\n",
      "Downloading https://ossci-datasets.s3.amazonaws.com/mnist/train-images-idx3-ubyte.gz to data/MNIST/raw/train-images-idx3-ubyte.gz\n"
     ]
    },
    {
     "name": "stderr",
     "output_type": "stream",
     "text": [
      "100%|██████████| 9912422/9912422 [00:00<00:00, 11008735.41it/s]\n"
     ]
    },
    {
     "name": "stdout",
     "output_type": "stream",
     "text": [
      "Extracting data/MNIST/raw/train-images-idx3-ubyte.gz to data/MNIST/raw\n",
      "\n",
      "Downloading http://yann.lecun.com/exdb/mnist/train-labels-idx1-ubyte.gz\n",
      "Failed to download (trying next):\n",
      "HTTP Error 403: Forbidden\n",
      "\n",
      "Downloading https://ossci-datasets.s3.amazonaws.com/mnist/train-labels-idx1-ubyte.gz\n",
      "Downloading https://ossci-datasets.s3.amazonaws.com/mnist/train-labels-idx1-ubyte.gz to data/MNIST/raw/train-labels-idx1-ubyte.gz\n"
     ]
    },
    {
     "name": "stderr",
     "output_type": "stream",
     "text": [
      "100%|██████████| 28881/28881 [00:00<00:00, 5589502.30it/s]\n"
     ]
    },
    {
     "name": "stdout",
     "output_type": "stream",
     "text": [
      "Extracting data/MNIST/raw/train-labels-idx1-ubyte.gz to data/MNIST/raw\n",
      "\n",
      "Downloading http://yann.lecun.com/exdb/mnist/t10k-images-idx3-ubyte.gz\n",
      "Failed to download (trying next):\n",
      "HTTP Error 403: Forbidden\n",
      "\n",
      "Downloading https://ossci-datasets.s3.amazonaws.com/mnist/t10k-images-idx3-ubyte.gz\n",
      "Downloading https://ossci-datasets.s3.amazonaws.com/mnist/t10k-images-idx3-ubyte.gz to data/MNIST/raw/t10k-images-idx3-ubyte.gz\n"
     ]
    },
    {
     "name": "stderr",
     "output_type": "stream",
     "text": [
      "100%|██████████| 1648877/1648877 [00:00<00:00, 18490600.54it/s]\n"
     ]
    },
    {
     "name": "stdout",
     "output_type": "stream",
     "text": [
      "Extracting data/MNIST/raw/t10k-images-idx3-ubyte.gz to data/MNIST/raw\n",
      "\n",
      "Downloading http://yann.lecun.com/exdb/mnist/t10k-labels-idx1-ubyte.gz\n",
      "Failed to download (trying next):\n",
      "HTTP Error 403: Forbidden\n",
      "\n",
      "Downloading https://ossci-datasets.s3.amazonaws.com/mnist/t10k-labels-idx1-ubyte.gz\n",
      "Downloading https://ossci-datasets.s3.amazonaws.com/mnist/t10k-labels-idx1-ubyte.gz to data/MNIST/raw/t10k-labels-idx1-ubyte.gz\n"
     ]
    },
    {
     "name": "stderr",
     "output_type": "stream",
     "text": [
      "100%|██████████| 4542/4542 [00:00<00:00, 5874353.61it/s]"
     ]
    },
    {
     "name": "stdout",
     "output_type": "stream",
     "text": [
      "Extracting data/MNIST/raw/t10k-labels-idx1-ubyte.gz to data/MNIST/raw\n",
      "\n"
     ]
    },
    {
     "name": "stderr",
     "output_type": "stream",
     "text": [
      "\n"
     ]
    },
    {
     "data": {
      "text/plain": [
       "(<PIL.Image.Image image mode=L size=28x28>, 5)"
      ]
     },
     "execution_count": 5,
     "metadata": {},
     "output_type": "execute_result"
    }
   ],
   "source": [
    "x = datasets.MNIST('data', download=True)\n",
    "x[0]"
   ]
  },
  {
   "cell_type": "code",
   "execution_count": 6,
   "id": "480b4ed9-53a2-497f-a091-34d2b5029efc",
   "metadata": {},
   "outputs": [],
   "source": [
    "transform=transforms.Compose([\n",
    "    transforms.ToTensor(),\n",
    "    transforms.Normalize((0.1307,), (0.3081,))\n",
    "    ])"
   ]
  },
  {
   "cell_type": "code",
   "execution_count": 7,
   "id": "e0e7703b-bafa-4cbd-ab76-e7912f238a71",
   "metadata": {},
   "outputs": [],
   "source": [
    "dataset1 = datasets.MNIST('data', train=True, download=True, transform=transform)\n",
    "train_loader = torch.utils.data.DataLoader(dataset1, batch_size=64)\n",
    "\n",
    "dataset2 = datasets.MNIST('data', train=False, download=True, transform=transform)\n",
    "test_loader = torch.utils.data.DataLoader(dataset2, batch_size=1000)"
   ]
  },
  {
   "cell_type": "code",
   "execution_count": 8,
   "id": "59710e75-9a82-4e8a-b69a-41476ee2d695",
   "metadata": {},
   "outputs": [
    {
     "data": {
      "text/plain": [
       "torch.Size([64, 1, 28, 28])"
      ]
     },
     "execution_count": 8,
     "metadata": {},
     "output_type": "execute_result"
    }
   ],
   "source": [
    "i, x = next(enumerate(train_loader))\n",
    "x[0].shape"
   ]
  },
  {
   "cell_type": "markdown",
   "id": "a56db5ce-0865-4bfe-889c-3ddb048c8f0f",
   "metadata": {},
   "source": [
    "# View Image"
   ]
  },
  {
   "cell_type": "code",
   "execution_count": 9,
   "id": "816b99ae-9a93-41b9-bbdb-fb29315882a2",
   "metadata": {},
   "outputs": [],
   "source": [
    "import numpy as np\n",
    "import scipy\n",
    "import matplotlib.pyplot as plt"
   ]
  },
  {
   "cell_type": "code",
   "execution_count": 10,
   "id": "f6fac72d-8f4c-4b8e-b0a2-f0b3f5fde55a",
   "metadata": {},
   "outputs": [
    {
     "data": {
      "text/plain": [
       "<matplotlib.image.AxesImage at 0x130e9f4a0>"
      ]
     },
     "execution_count": 10,
     "metadata": {},
     "output_type": "execute_result"
    },
    {
     "data": {
      "image/png": "[encoded data removed]",
      "text/plain": [
       "<Figure size 640x480 with 1 Axes>"
      ]
     },
     "metadata": {},
     "output_type": "display_data"
    }
   ],
   "source": [
    "i, x = next(enumerate(train_loader))\n",
    "x2 = np.squeeze(x[0][0])\n",
    "plt.imshow(x2, cmap='gray')"
   ]
  },
  {
   "cell_type": "code",
   "execution_count": 11,
   "id": "913ac94e-1e4c-4b47-ba22-02c89c34cf3f",
   "metadata": {},
   "outputs": [
    {
     "data": {
      "text/plain": [
       "<matplotlib.image.AxesImage at 0x131327590>"
      ]
     },
     "execution_count": 11,
     "metadata": {},
     "output_type": "execute_result"
    },
    {
     "data": {
      "image/png": "[encoded data removed]",
      "text/plain": [
       "<Figure size 640x480 with 3 Axes>"
      ]
     },
     "metadata": {},
     "output_type": "display_data"
    }
   ],
   "source": [
    "kernel = np.array([[1, 0, -1], [2, 0, -2], [1, 0, -1]])\n",
    "y = scipy.ndimage.convolve(x2, kernel)\n",
    "\n",
    "fig, axes = plt.subplots(1,3)\n",
    "axes[0].imshow(x2)\n",
    "axes[1].imshow(kernel)\n",
    "axes[2].imshow(y)"
   ]
  },
  {
   "cell_type": "markdown",
   "id": "b2a9a9b8-5987-4e58-9ca6-97baeab779ae",
   "metadata": {},
   "source": [
    "# Create Network"
   ]
  },
  {
   "cell_type": "code",
   "execution_count": 13,
   "id": "29ceed62-51fb-46d4-a1e6-e09070a2e1d3",
   "metadata": {},
   "outputs": [],
   "source": [
    "import torch.nn as nn\n",
    "import torch.nn.functional as F\n",
    "import torch.optim as optim\n",
    "from torchinfo import summary"
   ]
  },
  {
   "cell_type": "code",
   "execution_count": 14,
   "id": "824bebde-c13f-4182-83fc-812306876c30",
   "metadata": {},
   "outputs": [],
   "source": [
    "class Net(nn.Module):\n",
    "    def __init__(self):\n",
    "        super(Net, self).__init__()\n",
    "        self.conv1 = nn.Conv2d(1, 10, kernel_size=5)\n",
    "        self.conv2 = nn.Conv2d(10, 20, kernel_size=5)\n",
    "        self.conv2_drop = nn.Dropout2d()\n",
    "        self.fc1 = nn.Linear(320, 50)\n",
    "        self.fc2 = nn.Linear(50, 10)\n",
    "\n",
    "    def forward(self, x):\n",
    "        x = F.relu(F.max_pool2d(self.conv1(x), 2))\n",
    "        x = F.relu(F.max_pool2d(self.conv2_drop(self.conv2(x)), 2))\n",
    "        x = x.view(-1, 320)\n",
    "        x = F.relu(self.fc1(x))\n",
    "        x = F.dropout(x, training=self.training)\n",
    "        x = self.fc2(x)\n",
    "        return F.log_softmax(x)"
   ]
  },
  {
   "cell_type": "code",
   "execution_count": 15,
   "id": "fc192ed1-478c-4f49-afea-7ab978c93961",
   "metadata": {},
   "outputs": [
    {
     "name": "stderr",
     "output_type": "stream",
     "text": [
      "/opt/anaconda3/envs/qb24/lib/python3.12/site-packages/torch/nn/functional.py:1354: UserWarning: dropout2d: Received a 3D input to dropout2d and assuming that channel-wise 1D dropout behavior is desired - input is interpreted as shape (N, C, L), where C is the channel dim. This behavior will change in a future release to interpret the input as one without a batch dimension, i.e. shape (C, H, W). To maintain the 1D channel-wise dropout behavior, please switch to using dropout1d instead.\n",
      "  warnings.warn(\"dropout2d: Received a 3D input to dropout2d and assuming that channel-wise \"\n",
      "/var/folders/m9/f9b1skd55v35_qp4hcflk2qh0000gp/T/ipykernel_26964/161431047.py:17: UserWarning: Implicit dimension choice for log_softmax has been deprecated. Change the call to include dim=X as an argument.\n",
      "  return F.log_softmax(x)\n"
     ]
    },
    {
     "data": {
      "text/plain": [
       "==========================================================================================\n",
       "Layer (type:depth-idx)                   Output Shape              Param #\n",
       "==========================================================================================\n",
       "Net                                      [1, 10]                   --\n",
       "├─Conv2d: 1-1                            [10, 24, 24]              260\n",
       "├─Conv2d: 1-2                            [20, 8, 8]                5,020\n",
       "├─Dropout2d: 1-3                         [20, 8, 8]                --\n",
       "├─Linear: 1-4                            [1, 50]                   16,050\n",
       "├─Linear: 1-5                            [1, 10]                   510\n",
       "==========================================================================================\n",
       "Total params: 21,840\n",
       "Trainable params: 21,840\n",
       "Non-trainable params: 0\n",
       "Total mult-adds (Units.MEGABYTES): 0.88\n",
       "==========================================================================================\n",
       "Input size (MB): 0.00\n",
       "Forward/backward pass size (MB): 0.06\n",
       "Params size (MB): 0.09\n",
       "Estimated Total Size (MB): 0.15\n",
       "=========================================================================================="
      ]
     },
     "execution_count": 15,
     "metadata": {},
     "output_type": "execute_result"
    }
   ],
   "source": [
    "network = Net()\n",
    "optimizer = optim.SGD(network.parameters(), lr=0.01, momentum=0.5)\n",
    "summary(network, input_size=(1,28,28))"
   ]
  },
  {
   "cell_type": "markdown",
   "id": "3d0a78c4-3dbd-450d-b433-2702d56a6b25",
   "metadata": {},
   "source": [
    "# Visualize Weights"
   ]
  },
  {
   "cell_type": "code",
   "execution_count": 16,
   "id": "44ce2ccf-b96a-4562-88dd-a36abe6e78c1",
   "metadata": {},
   "outputs": [],
   "source": [
    "def visualize():\n",
    "    i, x = next(enumerate(test_loader))\n",
    "    x2 = np.squeeze(x[0][0])\n",
    "    weights = network.conv1.weight.data\n",
    "    \n",
    "    fig, axes = plt.subplots(10,2)\n",
    "    for i in range(10):\n",
    "        weights_np = np.squeeze(weights.numpy()[i,0,:,:])\n",
    "        axes[i,0].imshow(weights_np)\n",
    "        axes[i,1].imshow(scipy.ndimage.convolve(x2, weights_np))"
   ]
  },
  {
   "cell_type": "code",
   "execution_count": 17,
   "id": "a2a7d4bf-c289-4ce9-bae6-b5e9e027dab8",
   "metadata": {},
   "outputs": [
    {
     "data": {
      "image/png": "[encoded data removed]",
      "text/plain": [
       "<Figure size 640x480 with 20 Axes>"
      ]
     },
     "metadata": {},
     "output_type": "display_data"
    }
   ],
   "source": [
    "visualize()"
   ]
  },
  {
   "cell_type": "markdown",
   "id": "00e8d17d-9790-48fb-ab28-8553362cb2cc",
   "metadata": {},
   "source": [
    "# Predict Using Network"
   ]
  },
  {
   "cell_type": "code",
   "execution_count": 18,
   "id": "7a71b539-af89-4b00-abd5-81355c5056b8",
   "metadata": {},
   "outputs": [
    {
     "data": {
      "text/plain": [
       "tensor([5, 0, 4, 1, 9])"
      ]
     },
     "execution_count": 18,
     "metadata": {},
     "output_type": "execute_result"
    }
   ],
   "source": [
    "i, x = next(enumerate(train_loader))\n",
    "x[1][:5]"
   ]
  },
  {
   "cell_type": "code",
   "execution_count": 19,
   "id": "19099acc-17ad-4fed-a8c5-94dd5f23ed48",
   "metadata": {},
   "outputs": [
    {
     "name": "stderr",
     "output_type": "stream",
     "text": [
      "/var/folders/m9/f9b1skd55v35_qp4hcflk2qh0000gp/T/ipykernel_26964/161431047.py:17: UserWarning: Implicit dimension choice for log_softmax has been deprecated. Change the call to include dim=X as an argument.\n",
      "  return F.log_softmax(x)\n"
     ]
    },
    {
     "data": {
      "text/plain": [
       "tensor([5, 5, 4, 2, 8])"
      ]
     },
     "execution_count": 19,
     "metadata": {},
     "output_type": "execute_result"
    }
   ],
   "source": [
    "y = network(x[0])\n",
    "pred = y.data.max(1)[1]\n",
    "pred[:5]"
   ]
  },
  {
   "cell_type": "markdown",
   "id": "d20a976a-42a9-42ae-95d7-bd764a946b19",
   "metadata": {},
   "source": [
    "# First Test and Train"
   ]
  },
  {
   "cell_type": "code",
   "execution_count": 20,
   "id": "2605c912-1329-48e8-8d36-82d83738f58b",
   "metadata": {},
   "outputs": [],
   "source": [
    "def test():\n",
    "  network.eval()\n",
    "  correct = 0\n",
    "  with torch.no_grad():\n",
    "    for data, target in test_loader:\n",
    "      output = network(data)\n",
    "      pred = output.data.max(1, keepdim=True)[1]\n",
    "      correct += pred.eq(target.data.view_as(pred)).sum()\n",
    "  print('Test accuracy: {:.0f}%\\n'.format(100. * correct / len(test_loader.dataset)))"
   ]
  },
  {
   "cell_type": "code",
   "execution_count": 21,
   "id": "044b36f9-bfce-4cdf-b024-ce80f568470a",
   "metadata": {},
   "outputs": [
    {
     "name": "stderr",
     "output_type": "stream",
     "text": [
      "/var/folders/m9/f9b1skd55v35_qp4hcflk2qh0000gp/T/ipykernel_26964/161431047.py:17: UserWarning: Implicit dimension choice for log_softmax has been deprecated. Change the call to include dim=X as an argument.\n",
      "  return F.log_softmax(x)\n"
     ]
    },
    {
     "name": "stdout",
     "output_type": "stream",
     "text": [
      "Test accuracy: 9%\n",
      "\n"
     ]
    }
   ],
   "source": [
    "test()"
   ]
  },
  {
   "cell_type": "code",
   "execution_count": 22,
   "id": "5790a2f7-1a11-43d6-83ba-39392dc2747d",
   "metadata": {},
   "outputs": [],
   "source": [
    "optimizer = optim.SGD(network.parameters(), lr=0.01, momentum=0.5)\n",
    "def train():\n",
    "  network.train()\n",
    "  for batch_idx, (data, target) in enumerate(train_loader):\n",
    "    optimizer.zero_grad()\n",
    "    output = network(data)\n",
    "    loss = F.nll_loss(output, target)\n",
    "    loss.backward()\n",
    "    optimizer.step()\n",
    "    if batch_idx % 100 == 0:\n",
    "      print('Train loss: {:.6f}'.format(loss.item()))"
   ]
  },
  {
   "cell_type": "code",
   "execution_count": 23,
   "id": "d9d2ca7c-d974-4d7b-a25e-09882ff442b7",
   "metadata": {},
   "outputs": [
    {
     "name": "stderr",
     "output_type": "stream",
     "text": [
      "/var/folders/m9/f9b1skd55v35_qp4hcflk2qh0000gp/T/ipykernel_26964/161431047.py:17: UserWarning: Implicit dimension choice for log_softmax has been deprecated. Change the call to include dim=X as an argument.\n",
      "  return F.log_softmax(x)\n"
     ]
    },
    {
     "name": "stdout",
     "output_type": "stream",
     "text": [
      "Train loss: 2.330237\n",
      "Train loss: 1.958324\n",
      "Train loss: 1.106326\n",
      "Train loss: 1.031665\n",
      "Train loss: 0.598656\n",
      "Train loss: 0.746987\n",
      "Train loss: 0.525990\n",
      "Train loss: 0.458507\n",
      "Train loss: 0.528078\n",
      "Train loss: 0.477171\n"
     ]
    }
   ],
   "source": [
    "train()"
   ]
  },
  {
   "cell_type": "markdown",
   "id": "c61319bd-8132-4325-8619-6bc176bb8b74",
   "metadata": {},
   "source": [
    "# Train Network"
   ]
  },
  {
   "cell_type": "code",
   "execution_count": 24,
   "id": "3188e884-4e5c-49cc-88d2-75b89724c57c",
   "metadata": {},
   "outputs": [
    {
     "name": "stderr",
     "output_type": "stream",
     "text": [
      "/var/folders/m9/f9b1skd55v35_qp4hcflk2qh0000gp/T/ipykernel_26964/161431047.py:17: UserWarning: Implicit dimension choice for log_softmax has been deprecated. Change the call to include dim=X as an argument.\n",
      "  return F.log_softmax(x)\n"
     ]
    },
    {
     "name": "stdout",
     "output_type": "stream",
     "text": [
      "Train loss: 2.337151\n",
      "Train loss: 2.028953\n",
      "Train loss: 1.031725\n",
      "Train loss: 0.793879\n",
      "Train loss: 0.574219\n",
      "Train loss: 0.485942\n",
      "Train loss: 0.436895\n",
      "Train loss: 0.743055\n",
      "Train loss: 0.332131\n",
      "Train loss: 0.542613\n",
      "Test accuracy: 95%\n",
      "\n",
      "Train loss: 0.313013\n",
      "Train loss: 0.469094\n",
      "Train loss: 0.246181\n",
      "Train loss: 0.359279\n",
      "Train loss: 0.275844\n",
      "Train loss: 0.445544\n",
      "Train loss: 0.178015\n",
      "Train loss: 0.298194\n",
      "Train loss: 0.264179\n",
      "Train loss: 0.333188\n",
      "Test accuracy: 96%\n",
      "\n",
      "Train loss: 0.278041\n",
      "Train loss: 0.353036\n",
      "Train loss: 0.224433\n",
      "Train loss: 0.337758\n",
      "Train loss: 0.306907\n",
      "Train loss: 0.369813\n",
      "Train loss: 0.142323\n",
      "Train loss: 0.249930\n",
      "Train loss: 0.274448\n",
      "Train loss: 0.308229\n",
      "Test accuracy: 97%\n",
      "\n",
      "Train loss: 0.096463\n",
      "Train loss: 0.126058\n",
      "Train loss: 0.165391\n",
      "Train loss: 0.252340\n",
      "Train loss: 0.192114\n",
      "Train loss: 0.192150\n",
      "Train loss: 0.117767\n",
      "Train loss: 0.210015\n",
      "Train loss: 0.234658\n",
      "Train loss: 0.450406\n",
      "Test accuracy: 98%\n",
      "\n",
      "Train loss: 0.166736\n",
      "Train loss: 0.204553\n",
      "Train loss: 0.227179\n",
      "Train loss: 0.393914\n",
      "Train loss: 0.115124\n",
      "Train loss: 0.148914\n",
      "Train loss: 0.162715\n",
      "Train loss: 0.206879\n",
      "Train loss: 0.225634\n",
      "Train loss: 0.323757\n",
      "Test accuracy: 98%\n",
      "\n"
     ]
    }
   ],
   "source": [
    "network = Net()\n",
    "optimizer = optim.SGD(network.parameters(), lr=0.01, momentum=0.5)\n",
    "for epoch in range(5):\n",
    "    train()\n",
    "    test()"
   ]
  },
  {
   "cell_type": "markdown",
   "id": "99586011-99ab-400d-8192-610c329918ae",
   "metadata": {},
   "source": [
    "# Inspect Network"
   ]
  },
  {
   "cell_type": "code",
   "execution_count": 25,
   "id": "dc3e0d30-d98d-4928-aaba-ea3aec986ff3",
   "metadata": {},
   "outputs": [
    {
     "data": {
      "image/png": "[encoded data removed]",
      "text/plain": [
       "<Figure size 640x480 with 20 Axes>"
      ]
     },
     "metadata": {},
     "output_type": "display_data"
    }
   ],
   "source": [
    "visualize()"
   ]
  },
  {
   "cell_type": "code",
   "execution_count": 26,
   "id": "d7a26236-3bda-428f-a95d-46d080acf90b",
   "metadata": {},
   "outputs": [
    {
     "data": {
      "text/plain": [
       "tensor([5, 0, 4, 1, 9])"
      ]
     },
     "execution_count": 26,
     "metadata": {},
     "output_type": "execute_result"
    }
   ],
   "source": [
    "i, x = next(enumerate(train_loader))\n",
    "x[1][:5]"
   ]
  },
  {
   "cell_type": "code",
   "execution_count": 27,
   "id": "cc9cbf03-b8a7-4217-88b2-d43b1ea8639e",
   "metadata": {},
   "outputs": [
    {
     "name": "stderr",
     "output_type": "stream",
     "text": [
      "/var/folders/m9/f9b1skd55v35_qp4hcflk2qh0000gp/T/ipykernel_26964/161431047.py:17: UserWarning: Implicit dimension choice for log_softmax has been deprecated. Change the call to include dim=X as an argument.\n",
      "  return F.log_softmax(x)\n"
     ]
    },
    {
     "data": {
      "text/plain": [
       "tensor([5, 0, 4, 1, 9])"
      ]
     },
     "execution_count": 27,
     "metadata": {},
     "output_type": "execute_result"
    }
   ],
   "source": [
    "y = network(x[0])\n",
    "pred = y.data.max(1)[1]\n",
    "pred[:5]"
   ]
  },
  {
   "cell_type": "markdown",
   "id": "91ccf0af-45b9-44f5-82bb-8b2428a9fb35",
   "metadata": {},
   "source": [
    "# How Much Data?\n",
    "\n",
    "- What is the accuracy using 60,000 images? 30,000? 6,000? 3,000? 600?\n",
    "- How do the weights looks different when trained with 60,000 vs 600?"
   ]
  },
  {
   "cell_type": "code",
   "execution_count": 39,
   "id": "b0fc9e1b-2338-41fa-a471-1c5860de70f5",
   "metadata": {},
   "outputs": [],
   "source": [
    "dataset1 = datasets.MNIST('data', train=True, download=True, transform=transform)\n",
    "dataset1 = torch.utils.data.Subset(dataset1, range(60000))\n",
    "train_loader = torch.utils.data.DataLoader(dataset1, batch_size=64)"
   ]
  },
  {
   "cell_type": "code",
   "execution_count": 40,
   "id": "1bceb5af-336f-491b-9e69-ebc7a0b3ac99",
   "metadata": {},
   "outputs": [
    {
     "name": "stderr",
     "output_type": "stream",
     "text": [
      "/var/folders/m9/f9b1skd55v35_qp4hcflk2qh0000gp/T/ipykernel_26964/161431047.py:17: UserWarning: Implicit dimension choice for log_softmax has been deprecated. Change the call to include dim=X as an argument.\n",
      "  return F.log_softmax(x)\n"
     ]
    },
    {
     "name": "stdout",
     "output_type": "stream",
     "text": [
      "Train loss: 2.332296\n",
      "Train loss: 1.957535\n",
      "Train loss: 1.462207\n",
      "Train loss: 1.014435\n",
      "Train loss: 0.627142\n",
      "Train loss: 0.616435\n",
      "Train loss: 0.475159\n",
      "Train loss: 0.659763\n",
      "Train loss: 0.616568\n",
      "Train loss: 0.579007\n",
      "Test accuracy: 94%\n",
      "\n",
      "Train loss: 0.350473\n",
      "Train loss: 0.504907\n",
      "Train loss: 0.327363\n",
      "Train loss: 0.426958\n",
      "Train loss: 0.338403\n",
      "Train loss: 0.271771\n",
      "Train loss: 0.264161\n",
      "Train loss: 0.390316\n",
      "Train loss: 0.321871\n",
      "Train loss: 0.436253\n",
      "Test accuracy: 96%\n",
      "\n",
      "Train loss: 0.291963\n",
      "Train loss: 0.197421\n",
      "Train loss: 0.202241\n",
      "Train loss: 0.391304\n",
      "Train loss: 0.176931\n",
      "Train loss: 0.349548\n",
      "Train loss: 0.294814\n",
      "Train loss: 0.411946\n",
      "Train loss: 0.413940\n",
      "Train loss: 0.458518\n",
      "Test accuracy: 97%\n",
      "\n",
      "Train loss: 0.264083\n",
      "Train loss: 0.289836\n",
      "Train loss: 0.249974\n",
      "Train loss: 0.297781\n",
      "Train loss: 0.210276\n",
      "Train loss: 0.229125\n",
      "Train loss: 0.310620\n",
      "Train loss: 0.242642\n",
      "Train loss: 0.182461\n",
      "Train loss: 0.219221\n",
      "Test accuracy: 98%\n",
      "\n",
      "Train loss: 0.216653\n",
      "Train loss: 0.284743\n",
      "Train loss: 0.188868\n",
      "Train loss: 0.235233\n",
      "Train loss: 0.103094\n",
      "Train loss: 0.320660\n",
      "Train loss: 0.316982\n",
      "Train loss: 0.210551\n",
      "Train loss: 0.177918\n",
      "Train loss: 0.216568\n",
      "Test accuracy: 98%\n",
      "\n"
     ]
    }
   ],
   "source": [
    "# Create a new network and optimizer each time you try a new training set\n",
    "network = Net()\n",
    "optimizer = optim.SGD(network.parameters(), lr=0.01, momentum=0.5)\n",
    "for epoch in range(5):\n",
    "    train()\n",
    "    test()"
   ]
  },
  {
   "cell_type": "markdown",
   "id": "07182dd9",
   "metadata": {},
   "source": [
    "## Accuracy\n",
    "600: Accuracy here is average(12 + 17 + 21 + 29 + 37) = 23.2%\n",
    "3000: Accurary here is average(38 + 50 + 68 + 79 + 85) = 64%\n",
    "6000: Accuracy here is average(54 + 74 + 83 + 88 + 90) = 77.8%\n",
    "30,000: Accuracy here is average(93 + 95 + 95 + 96 + 96) = 95%\n",
    "60,000: Accuracy here is average(93 + 96 + 95 +  97 + 97) = 95.75%\n",
    "\n",
    "## Weights\n",
    "Weights in the 600 image training set looks completely random and not weighted at all, no visible clustering. This is unlike the 60,000, where you can see clustering within the visualization indicating that there are areas being weighted. "
   ]
  },
  {
   "cell_type": "code",
   "execution_count": 41,
   "id": "8d03594c-4570-43d2-a282-6be8e9e0432b",
   "metadata": {},
   "outputs": [
    {
     "data": {
      "image/png": "[encoded data removed]",
      "text/plain": [
       "<Figure size 640x480 with 20 Axes>"
      ]
     },
     "metadata": {},
     "output_type": "display_data"
    }
   ],
   "source": [
    "visualize()"
   ]
  },
  {
   "cell_type": "markdown",
   "id": "8a556294",
   "metadata": {},
   "source": [
    "## Weights"
   ]
  },
  {
   "cell_type": "markdown",
   "id": "f3a68356",
   "metadata": {},
   "source": []
  },
  {
   "cell_type": "code",
   "execution_count": null,
   "id": "460f7426-228c-4657-8bb5-074dda214157",
   "metadata": {},
   "outputs": [],
   "source": []
  },
  {
   "cell_type": "code",
   "execution_count": null,
   "id": "ebf346bb-e504-4148-8d87-0a01d90e3ef0",
   "metadata": {},
   "outputs": [],
   "source": []
  },
  {
   "cell_type": "code",
   "execution_count": null,
   "id": "a8b91570-a58f-4143-8fc4-ab6edf20ff0c",
   "metadata": {},
   "outputs": [],
   "source": []
  }
 ],
 "metadata": {
  "kernelspec": {
   "display_name": "Python 3 (ipykernel)",
   "language": "python",
   "name": "python3"
  },
  "language_info": {
   "codemirror_mode": {
    "name": "ipython",
    "version": 3
   },
   "file_extension": ".py",
   "mimetype": "text/x-python",
   "name": "python",
   "nbconvert_exporter": "python",
   "pygments_lexer": "ipython3",
   "version": "3.12.3"
  }
 },
 "nbformat": 4,
 "nbformat_minor": 5
}
